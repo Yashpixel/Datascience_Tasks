{
 "cells": [
  {
   "cell_type": "code",
   "execution_count": 81,
   "id": "0aa62cae-f35a-46b9-862b-a8d33aee5b58",
   "metadata": {},
   "outputs": [],
   "source": [
    "#methods of numpy\n",
    "#IF-5-K\n",
    "#Yash Ramesh Jadhav\n",
    "import numpy as np"
   ]
  },
  {
   "cell_type": "code",
   "execution_count": 82,
   "id": "09a5ee19-a9a0-442b-86d8-f23caa9b2daf",
   "metadata": {},
   "outputs": [
    {
     "name": "stdout",
     "output_type": "stream",
     "text": [
      "Shape:  (2, 3)\n"
     ]
    }
   ],
   "source": [
    "ar1=np.array([[25,26,27],[35,36,37]])\n",
    "print(\"Shape: \",ar1.shape)"
   ]
  },
  {
   "cell_type": "code",
   "execution_count": 83,
   "id": "a60e6922-6f57-4591-9b7c-b1a2b1592d83",
   "metadata": {},
   "outputs": [
    {
     "name": "stdout",
     "output_type": "stream",
     "text": [
      "Size:  6\n"
     ]
    }
   ],
   "source": [
    "print(\"Size: \",ar1.size)"
   ]
  },
  {
   "cell_type": "code",
   "execution_count": 84,
   "id": "b8002d42-43df-4cdf-a477-06e6c8202009",
   "metadata": {},
   "outputs": [
    {
     "name": "stdout",
     "output_type": "stream",
     "text": [
      "Dimensions:  2\n"
     ]
    }
   ],
   "source": [
    "print(\"Dimensions: \",ar1.ndim)"
   ]
  },
  {
   "cell_type": "code",
   "execution_count": 85,
   "id": "3a6e7ae7-c7d0-4c3a-96a1-2aa665b9caec",
   "metadata": {},
   "outputs": [
    {
     "name": "stdout",
     "output_type": "stream",
     "text": [
      "Data Type:  int64\n"
     ]
    }
   ],
   "source": [
    "print(\"Data Type: \",ar1.dtype)"
   ]
  },
  {
   "cell_type": "code",
   "execution_count": 86,
   "id": "03b1b7f3-0f90-403d-9760-8bd3780b76cb",
   "metadata": {},
   "outputs": [
    {
     "name": "stdout",
     "output_type": "stream",
     "text": [
      "Original Array: \n",
      " [[1 2 3]\n",
      " [4 5 6]]\n",
      "(2, 3)\n",
      "Reshaped array: \n",
      " [[1 2]\n",
      " [3 4]\n",
      " [5 6]]\n",
      "Flatenned:  [1 2 3 4 5 6]\n"
     ]
    }
   ],
   "source": [
    "ar2=np.array([[1,2,3],[4,5,6]])\n",
    "print(\"Original Array: \\n\",ar2)\n",
    "print(ar2.shape)\n",
    "print(\"Reshaped array: \\n\",ar2.reshape(3,2))\n",
    "print(\"Flatenned: \",ar2.flatten())"
   ]
  },
  {
   "cell_type": "code",
   "execution_count": 87,
   "id": "35f72239-4673-4fe9-8db1-b16d785d2499",
   "metadata": {},
   "outputs": [
    {
     "name": "stdout",
     "output_type": "stream",
     "text": [
      "Original Array no. 3:\n",
      " [[ 30  20  50]\n",
      " [ 60  70  40]\n",
      " [ 80  90 100]]\n"
     ]
    }
   ],
   "source": [
    "ar3=np.array([[30,20,50],[60,70,40],[80,90,100]])\n",
    "print(\"Original Array no. 3:\\n\",ar3)"
   ]
  },
  {
   "cell_type": "code",
   "execution_count": 88,
   "id": "2a20cb83-1d9a-47ef-baa2-b2e383f3a865",
   "metadata": {},
   "outputs": [
    {
     "data": {
      "text/plain": [
       "np.True_"
      ]
     },
     "execution_count": 88,
     "metadata": {},
     "output_type": "execute_result"
    }
   ],
   "source": [
    "np.all(ar3)\n",
    "np.any(ar3)"
   ]
  },
  {
   "cell_type": "code",
   "execution_count": 89,
   "id": "b8200481-eace-4b85-b5bb-9dd75e364000",
   "metadata": {},
   "outputs": [
    {
     "data": {
      "text/plain": [
       "array([ 80,  90, 100])"
      ]
     },
     "execution_count": 89,
     "metadata": {},
     "output_type": "execute_result"
    }
   ],
   "source": [
    "np.max(ar3,axis=0)"
   ]
  },
  {
   "cell_type": "code",
   "execution_count": 90,
   "id": "2e28f90b-df3e-4aa2-8c33-5be9a06dec88",
   "metadata": {},
   "outputs": [
    {
     "data": {
      "text/plain": [
       "array([20, 40, 80])"
      ]
     },
     "execution_count": 90,
     "metadata": {},
     "output_type": "execute_result"
    }
   ],
   "source": [
    "np.min(ar3,axis=1)"
   ]
  },
  {
   "cell_type": "code",
   "execution_count": 91,
   "id": "ac6a7c5c-2e59-47c0-932f-6cd29a530ba7",
   "metadata": {},
   "outputs": [
    {
     "data": {
      "text/plain": [
       "np.int64(540)"
      ]
     },
     "execution_count": 91,
     "metadata": {},
     "output_type": "execute_result"
    }
   ],
   "source": [
    "np.sum(ar3)"
   ]
  },
  {
   "cell_type": "code",
   "execution_count": 92,
   "id": "07108a1d-aeb4-4675-8157-59668237eabb",
   "metadata": {},
   "outputs": [
    {
     "data": {
      "text/plain": [
       "array([144000, 126000, 200000])"
      ]
     },
     "execution_count": 92,
     "metadata": {},
     "output_type": "execute_result"
    }
   ],
   "source": [
    "np.prod(ar3,axis=0)"
   ]
  },
  {
   "cell_type": "code",
   "execution_count": 93,
   "id": "dc1c92f1-a713-4cfa-8ba5-326bd474e32f",
   "metadata": {},
   "outputs": [
    {
     "data": {
      "text/plain": [
       "np.float64(60.0)"
      ]
     },
     "execution_count": 93,
     "metadata": {},
     "output_type": "execute_result"
    }
   ],
   "source": [
    "np.median(ar3)"
   ]
  },
  {
   "cell_type": "code",
   "execution_count": 94,
   "id": "bb264f83-cd13-4c84-adfb-ea247be673e8",
   "metadata": {},
   "outputs": [
    {
     "data": {
      "text/plain": [
       "np.float64(92.0)"
      ]
     },
     "execution_count": 94,
     "metadata": {},
     "output_type": "execute_result"
    }
   ],
   "source": [
    "np.percentile(ar3,90)"
   ]
  },
  {
   "cell_type": "code",
   "execution_count": 95,
   "id": "3061a764-d773-4f56-a797-44e04d066d04",
   "metadata": {},
   "outputs": [
    {
     "data": {
      "text/plain": [
       "np.int64(1)"
      ]
     },
     "execution_count": 95,
     "metadata": {},
     "output_type": "execute_result"
    }
   ],
   "source": [
    "np.argmin(ar3)"
   ]
  },
  {
   "cell_type": "code",
   "execution_count": 96,
   "id": "97d5b34a-1075-4d01-b0cf-2bc1b785604a",
   "metadata": {},
   "outputs": [
    {
     "data": {
      "text/plain": [
       "np.int64(8)"
      ]
     },
     "execution_count": 96,
     "metadata": {},
     "output_type": "execute_result"
    }
   ],
   "source": [
    "np.argmax(ar3)"
   ]
  },
  {
   "cell_type": "code",
   "execution_count": 97,
   "id": "5bd0fb5f-22c6-43ae-b62c-38cf1ab3f2f6",
   "metadata": {},
   "outputs": [],
   "source": [
    "#np.unique(ar3)"
   ]
  },
  {
   "cell_type": "code",
   "execution_count": 98,
   "id": "21dd8e5d-e03b-452e-88b5-f5882ec75dfe",
   "metadata": {},
   "outputs": [
    {
     "data": {
      "text/plain": [
       "array([[-10,  30],\n",
       "       [ 10, -30],\n",
       "       [ 10,  10]])"
      ]
     },
     "execution_count": 98,
     "metadata": {},
     "output_type": "execute_result"
    }
   ],
   "source": [
    "np.diff(ar3)"
   ]
  },
  {
   "cell_type": "code",
   "execution_count": 99,
   "id": "7cd6e25b-669f-4cae-9076-9b1d5cf2c026",
   "metadata": {},
   "outputs": [
    {
     "data": {
      "text/plain": [
       "array([ 30,  50, 100, 160, 230, 270, 350, 440, 540])"
      ]
     },
     "execution_count": 99,
     "metadata": {},
     "output_type": "execute_result"
    }
   ],
   "source": [
    "np.cumsum(ar3)"
   ]
  },
  {
   "cell_type": "code",
   "execution_count": null,
   "id": "bb89b081-34aa-478c-aabd-756f359b4f9c",
   "metadata": {},
   "outputs": [],
   "source": []
  },
  {
   "cell_type": "code",
   "execution_count": null,
   "id": "46cac1db-86dd-44bc-b6c8-a045104ff9a7",
   "metadata": {},
   "outputs": [],
   "source": []
  }
 ],
 "metadata": {
  "kernelspec": {
   "display_name": "Python [conda env:base] *",
   "language": "python",
   "name": "conda-base-py"
  },
  "language_info": {
   "codemirror_mode": {
    "name": "ipython",
    "version": 3
   },
   "file_extension": ".py",
   "mimetype": "text/x-python",
   "name": "python",
   "nbconvert_exporter": "python",
   "pygments_lexer": "ipython3",
   "version": "3.13.5"
  }
 },
 "nbformat": 4,
 "nbformat_minor": 5
}
