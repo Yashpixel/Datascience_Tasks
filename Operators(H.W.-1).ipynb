{
 "cells": [
  {
   "cell_type": "code",
   "execution_count": null,
   "id": "5e864355-9f78-4384-814c-f171392569ab",
   "metadata": {},
   "outputs": [],
   "source": [
    "#Bitwise Operators"
   ]
  },
  {
   "cell_type": "code",
   "execution_count": 4,
   "id": "cb0265dc-0eb2-459b-b9c8-d842097ad011",
   "metadata": {},
   "outputs": [],
   "source": [
    "a=2\n",
    "b=4"
   ]
  },
  {
   "cell_type": "code",
   "execution_count": 5,
   "id": "6a66575b-db80-4587-ab82-c2bbe934b5ca",
   "metadata": {},
   "outputs": [
    {
     "name": "stdout",
     "output_type": "stream",
     "text": [
      "Bitwise and-  0\n"
     ]
    }
   ],
   "source": [
    "print(\"Bitwise and- \",a&b)"
   ]
  },
  {
   "cell_type": "code",
   "execution_count": 6,
   "id": "15c3c4a1-cc01-4d08-bfad-99684f63611d",
   "metadata": {},
   "outputs": [
    {
     "name": "stdout",
     "output_type": "stream",
     "text": [
      "Bitwise or-  6\n"
     ]
    }
   ],
   "source": [
    "print(\"Bitwise or- \",a|b)"
   ]
  },
  {
   "cell_type": "code",
   "execution_count": 7,
   "id": "19ea5f1d-bb9f-4050-ae24-1c3bc4304bd0",
   "metadata": {},
   "outputs": [
    {
     "name": "stdout",
     "output_type": "stream",
     "text": [
      "Bitwise xor-  6\n"
     ]
    }
   ],
   "source": [
    "print(\"Bitwise xor- \",a^b)"
   ]
  },
  {
   "cell_type": "code",
   "execution_count": 8,
   "id": "b7f23442-d3b6-4f14-a89b-5ec21b653eb2",
   "metadata": {},
   "outputs": [
    {
     "name": "stdout",
     "output_type": "stream",
     "text": [
      "Bitwise not-  -3\n",
      "Bitwise not-  -5\n"
     ]
    }
   ],
   "source": [
    "print(\"Bitwise not- \",~a)\n",
    "print(\"Bitwise not- \",~b)"
   ]
  },
  {
   "cell_type": "code",
   "execution_count": 10,
   "id": "2cef581e-6a89-4efa-9a8d-9a85c2e2dc45",
   "metadata": {},
   "outputs": [
    {
     "name": "stdout",
     "output_type": "stream",
     "text": [
      "LeftShift- 8\n"
     ]
    }
   ],
   "source": [
    "print(\"LeftShift-\", a<<2)"
   ]
  },
  {
   "cell_type": "code",
   "execution_count": 9,
   "id": "cbafc495-2508-4aae-8765-8514b9e869ce",
   "metadata": {},
   "outputs": [
    {
     "name": "stdout",
     "output_type": "stream",
     "text": [
      "RightShift- 1\n"
     ]
    }
   ],
   "source": [
    "print(\"RightShift-\",b>>2)"
   ]
  },
  {
   "cell_type": "code",
   "execution_count": null,
   "id": "a864ef84-04e2-43fb-95c4-521323609860",
   "metadata": {},
   "outputs": [],
   "source": [
    "#Assignment Operators"
   ]
  },
  {
   "cell_type": "code",
   "execution_count": 20,
   "id": "a691b4d3-f003-4452-857c-0c313a13502e",
   "metadata": {},
   "outputs": [],
   "source": [
    "a,b=4,2"
   ]
  },
  {
   "cell_type": "code",
   "execution_count": 23,
   "id": "3116c4f3-0d35-4f65-bc3d-20c36aca990e",
   "metadata": {},
   "outputs": [
    {
     "name": "stdout",
     "output_type": "stream",
     "text": [
      "Add and assign: 6\n"
     ]
    }
   ],
   "source": [
    "a+=b\n",
    "print(\"Add and assign:\",a)"
   ]
  },
  {
   "cell_type": "code",
   "execution_count": 24,
   "id": "15ca07f2-f177-4aab-bfbd-a35547a7887e",
   "metadata": {},
   "outputs": [
    {
     "name": "stdout",
     "output_type": "stream",
     "text": [
      "Subtract and Assign:  4\n"
     ]
    }
   ],
   "source": [
    "a-=b\n",
    "print(\"Subtract and Assign: \",a)"
   ]
  },
  {
   "cell_type": "code",
   "execution_count": 25,
   "id": "dd955e33-a210-463a-9be1-40013fd6da81",
   "metadata": {},
   "outputs": [
    {
     "name": "stdout",
     "output_type": "stream",
     "text": [
      "Multiply and Assign:  8\n"
     ]
    }
   ],
   "source": [
    "a*=b\n",
    "print(\"Multiply and Assign: \",a)"
   ]
  },
  {
   "cell_type": "code",
   "execution_count": 26,
   "id": "14cb8e8e-33bc-4f0b-91e8-72a92215aa7c",
   "metadata": {},
   "outputs": [
    {
     "name": "stdout",
     "output_type": "stream",
     "text": [
      "Divide and Assign:  4.0\n"
     ]
    }
   ],
   "source": [
    "a/=b\n",
    "print(\"Divide and Assign: \",a)"
   ]
  },
  {
   "cell_type": "code",
   "execution_count": 27,
   "id": "d8f07caf-6f5b-47a2-9eed-9a1fa87dfe1b",
   "metadata": {},
   "outputs": [
    {
     "name": "stdout",
     "output_type": "stream",
     "text": [
      "Floored Division 2.0\n"
     ]
    }
   ],
   "source": [
    "print(\"Floored Division\", a//b)"
   ]
  },
  {
   "cell_type": "code",
   "execution_count": 28,
   "id": "df21a397-f638-4b06-a6b1-4a901ffb0001",
   "metadata": {},
   "outputs": [
    {
     "name": "stdout",
     "output_type": "stream",
     "text": [
      "Exponential:  16.0\n"
     ]
    }
   ],
   "source": [
    "print(\"Exponential: \",a**b)"
   ]
  },
  {
   "cell_type": "code",
   "execution_count": 29,
   "id": "ceb7b7cb-a735-404a-91d4-c16aa6a14a54",
   "metadata": {},
   "outputs": [
    {
     "name": "stdout",
     "output_type": "stream",
     "text": [
      "Modulo Division and assign:  0.0\n"
     ]
    }
   ],
   "source": [
    "a%=b\n",
    "print(\"Modulo Division and assign: \",a)"
   ]
  },
  {
   "cell_type": "code",
   "execution_count": null,
   "id": "d977ba82-e63c-4041-b594-3e0ddb7e3914",
   "metadata": {},
   "outputs": [],
   "source": []
  }
 ],
 "metadata": {
  "kernelspec": {
   "display_name": "Python [conda env:yashenv]",
   "language": "python",
   "name": "conda-env-yashenv-py"
  },
  "language_info": {
   "codemirror_mode": {
    "name": "ipython",
    "version": 3
   },
   "file_extension": ".py",
   "mimetype": "text/x-python",
   "name": "python",
   "nbconvert_exporter": "python",
   "pygments_lexer": "ipython3",
   "version": "3.6.13"
  }
 },
 "nbformat": 4,
 "nbformat_minor": 5
}
