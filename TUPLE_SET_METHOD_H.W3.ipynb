{
 "cells": [
  {
   "cell_type": "code",
   "execution_count": 58,
   "id": "fce4dd51-0695-4ee3-a2ba-6663e12b6460",
   "metadata": {},
   "outputs": [
    {
     "data": {
      "text/plain": [
       "'Tuple Operations and Methods\\nIF-5-k\\nYash Ramesh Jadhav'"
      ]
     },
     "execution_count": 58,
     "metadata": {},
     "output_type": "execute_result"
    }
   ],
   "source": [
    "'''Tuple Operations and Methods\n",
    "IF-5-k\n",
    "Yash Ramesh Jadhav'''"
   ]
  },
  {
   "cell_type": "code",
   "execution_count": 59,
   "id": "e918e2f5-521d-4c69-9235-6f8513bb0ff5",
   "metadata": {},
   "outputs": [
    {
     "name": "stdout",
     "output_type": "stream",
     "text": [
      "()\n",
      "<class 'tuple'>\n"
     ]
    }
   ],
   "source": [
    "mt=()\n",
    "print(mt)\n",
    "print(type(mt))"
   ]
  },
  {
   "cell_type": "code",
   "execution_count": 60,
   "id": "52b70529-3e08-4d6d-bdac-9eac5db3dab7",
   "metadata": {},
   "outputs": [
    {
     "name": "stdout",
     "output_type": "stream",
     "text": [
      "(33, 44, 55)\n",
      "(11, 77, 33, 44)\n",
      "(55, 66, 77, 77, 99)\n"
     ]
    }
   ],
   "source": [
    "mt=(11,77,33,44,55,66,77,77,99)\n",
    "print(mt[2:5])\n",
    "print(mt[:4])\n",
    "print(mt[4:])"
   ]
  },
  {
   "cell_type": "code",
   "execution_count": 61,
   "id": "25324b24-1a77-44c3-a182-b6bffebbc0a5",
   "metadata": {},
   "outputs": [
    {
     "name": "stdout",
     "output_type": "stream",
     "text": [
      "ULTIMATEPYTHON\n"
     ]
    }
   ],
   "source": [
    "tup1=(\"ULTIMATE\")\n",
    "tup2=(\"PYTHON\")\n",
    "print(tup1+tup2)"
   ]
  },
  {
   "cell_type": "code",
   "execution_count": 62,
   "id": "0692a98b-e382-43e5-9bbd-55e60b393c3c",
   "metadata": {},
   "outputs": [
    {
     "name": "stdout",
     "output_type": "stream",
     "text": [
      "4\n"
     ]
    }
   ],
   "source": [
    "tup3=(\"YASH\")\n",
    "print(len(tup3))"
   ]
  },
  {
   "cell_type": "code",
   "execution_count": 63,
   "id": "e2b49858-a1a3-4d48-b1af-1271322edadf",
   "metadata": {},
   "outputs": [
    {
     "name": "stdout",
     "output_type": "stream",
     "text": [
      "Number of times 77 in mt=  3\n"
     ]
    }
   ],
   "source": [
    "print(\"Number of times 77 in mt= \",mt.count(77))"
   ]
  },
  {
   "cell_type": "code",
   "execution_count": 64,
   "id": "793d0ea8-3bf8-4e92-aac9-4a4cdb9812c6",
   "metadata": {},
   "outputs": [
    {
     "name": "stdout",
     "output_type": "stream",
     "text": [
      "Index of P=  1\n"
     ]
    }
   ],
   "source": [
    "tup4=('A','P','P','L','E')\n",
    "print(\"Index of P= \",tup4.index('P'))#prints index of first occuring P"
   ]
  },
  {
   "cell_type": "code",
   "execution_count": 65,
   "id": "57c99bc9-4b5c-4180-a675-2ef407347163",
   "metadata": {},
   "outputs": [
    {
     "name": "stdout",
     "output_type": "stream",
     "text": [
      "Minimun value: 1\n",
      "Maximum value: 25\n"
     ]
    }
   ],
   "source": [
    "tup5 = (25, 8, 1, 2)\n",
    "print(\"Minimun value:\" ,min(tup5)) \n",
    "print(\"Maximum value:\",max(tup5)) "
   ]
  },
  {
   "cell_type": "code",
   "execution_count": 66,
   "id": "65dfa4e5-37c2-4882-9864-c629c67494b4",
   "metadata": {},
   "outputs": [
    {
     "name": "stdout",
     "output_type": "stream",
     "text": [
      "18\n"
     ]
    }
   ],
   "source": [
    "tup6 = (4, 6, 8)\n",
    "print(sum(tup6))"
   ]
  },
  {
   "cell_type": "code",
   "execution_count": 67,
   "id": "c58dfc32-e103-42b0-8556-b6d75e2f46ed",
   "metadata": {},
   "outputs": [
    {
     "name": "stdout",
     "output_type": "stream",
     "text": [
      "True\n"
     ]
    }
   ],
   "source": [
    "names=('YASH','EVAA','SHAURYA','SHIV')\n",
    "print('EVAA'in names)"
   ]
  },
  {
   "cell_type": "code",
   "execution_count": 68,
   "id": "a0583d8b-f542-47cd-82ef-bec578082bd4",
   "metadata": {},
   "outputs": [
    {
     "name": "stdout",
     "output_type": "stream",
     "text": [
      "*--------------------SET METHODS and OPERATIONS------------------------*\n"
     ]
    }
   ],
   "source": [
    "print(\"*--------------------SET METHODS and OPERATIONS------------------------*\")"
   ]
  },
  {
   "cell_type": "code",
   "execution_count": 69,
   "id": "e4342f0c-8d24-4176-a3ca-4efe390b8233",
   "metadata": {},
   "outputs": [
    {
     "name": "stdout",
     "output_type": "stream",
     "text": [
      "{123, 'hello'}\n"
     ]
    }
   ],
   "source": [
    "my_set={'hello',123}\n",
    "print(my_set)"
   ]
  },
  {
   "cell_type": "code",
   "execution_count": 70,
   "id": "6bc2d2e4-0981-4fa1-85b4-e468a57499c3",
   "metadata": {},
   "outputs": [],
   "source": [
    "ms=set() #this creates empty set if we just use {} the it will create empty Dictionary"
   ]
  },
  {
   "cell_type": "code",
   "execution_count": 71,
   "id": "7e8e090d-ba1f-4050-b285-efa6497abf18",
   "metadata": {},
   "outputs": [
    {
     "name": "stdout",
     "output_type": "stream",
     "text": [
      "{10, 20, 30}\n"
     ]
    }
   ],
   "source": [
    "ms=set([10,20,30]) #we can create set from list\n",
    "print(ms)"
   ]
  },
  {
   "cell_type": "code",
   "execution_count": 72,
   "id": "127ac511-73dc-49a4-9ecb-f84da4e68f1c",
   "metadata": {},
   "outputs": [
    {
     "name": "stdout",
     "output_type": "stream",
     "text": [
      "{10, 20, 30}\n"
     ]
    }
   ],
   "source": [
    "print(ms)"
   ]
  },
  {
   "cell_type": "code",
   "execution_count": 73,
   "id": "6d1760d4-6ac8-4bd7-a28a-8abf8a0b7403",
   "metadata": {},
   "outputs": [
    {
     "name": "stdout",
     "output_type": "stream",
     "text": [
      "{10, 3, 20, 30}\n"
     ]
    }
   ],
   "source": [
    "ms.add(3)\n",
    "print(ms)"
   ]
  },
  {
   "cell_type": "code",
   "execution_count": 74,
   "id": "2f497af6-c829-4b9a-bf88-1aa360b738e9",
   "metadata": {},
   "outputs": [
    {
     "name": "stdout",
     "output_type": "stream",
     "text": [
      "{34, 3, 10, 77, 20, 56, 30}\n"
     ]
    }
   ],
   "source": [
    "ms.update([34,56,77])\n",
    "print(ms)"
   ]
  },
  {
   "cell_type": "code",
   "execution_count": 75,
   "id": "7b052807-95a0-454b-9fe0-cd1337cb0f96",
   "metadata": {},
   "outputs": [
    {
     "name": "stdout",
     "output_type": "stream",
     "text": [
      "{34, 10, 77, 20, 56, 30}\n"
     ]
    }
   ],
   "source": [
    "ms.discard(3)\n",
    "print(ms)"
   ]
  },
  {
   "cell_type": "code",
   "execution_count": 76,
   "id": "8f12de2b-a9fc-4684-82d7-944b2e54822e",
   "metadata": {},
   "outputs": [
    {
     "name": "stdout",
     "output_type": "stream",
     "text": [
      "{34, 10, 20, 56, 30}\n"
     ]
    }
   ],
   "source": [
    "ms.remove(77)\n",
    "print(ms)"
   ]
  },
  {
   "cell_type": "code",
   "execution_count": 77,
   "id": "825fd3d9-4933-4d59-b937-5196369bc6f7",
   "metadata": {},
   "outputs": [
    {
     "name": "stdout",
     "output_type": "stream",
     "text": [
      "H\n"
     ]
    }
   ],
   "source": [
    "ms1={'H','E','L','L','O'}\n",
    "print(ms1.pop())"
   ]
  },
  {
   "cell_type": "code",
   "execution_count": 78,
   "id": "51dcc7cf-af1c-4926-9f2d-a934f5f53e63",
   "metadata": {},
   "outputs": [
    {
     "name": "stdout",
     "output_type": "stream",
     "text": [
      "Union:  {1, 2, 3, 4, 5, 6, 7, 8}\n",
      "Intersection:  {4, 5}\n",
      "Difference:  {1, 2, 3}\n",
      "Difference:  {8, 6, 7}\n",
      "Symmetric Difference:  {1, 2, 3, 6, 7, 8}\n"
     ]
    }
   ],
   "source": [
    "A={1,2,3,4,5}\n",
    "B={4,5,6,7,8}\n",
    "print(\"Union: \",A|B)\n",
    "print(\"Intersection: \",A&B)\n",
    "print(\"Difference: \",A-B)\n",
    "print(\"Difference: \",B-A)\n",
    "print(\"Symmetric Difference: \",A^B)"
   ]
  },
  {
   "cell_type": "code",
   "execution_count": 79,
   "id": "d3368058-06c3-42f4-84dc-ae7c016701df",
   "metadata": {},
   "outputs": [
    {
     "name": "stdout",
     "output_type": "stream",
     "text": [
      "True\n",
      "True\n"
     ]
    }
   ],
   "source": [
    "ms2=set(\"apple\")\n",
    "print('a' in ms2)\n",
    "print('y' not in ms2)"
   ]
  },
  {
   "cell_type": "code",
   "execution_count": 80,
   "id": "9aa8de54-2514-489c-b2b8-ef0469ba56b2",
   "metadata": {},
   "outputs": [
    {
     "name": "stdout",
     "output_type": "stream",
     "text": [
      "l\n",
      "p\n",
      "e\n",
      "a\n"
     ]
    }
   ],
   "source": [
    "for i in set(\"apple\"):\n",
    "    print(i)"
   ]
  }
 ],
 "metadata": {
  "kernelspec": {
   "display_name": "Python [conda env:base] *",
   "language": "python",
   "name": "conda-base-py"
  },
  "language_info": {
   "codemirror_mode": {
    "name": "ipython",
    "version": 3
   },
   "file_extension": ".py",
   "mimetype": "text/x-python",
   "name": "python",
   "nbconvert_exporter": "python",
   "pygments_lexer": "ipython3",
   "version": "3.13.5"
  }
 },
 "nbformat": 4,
 "nbformat_minor": 5
}
