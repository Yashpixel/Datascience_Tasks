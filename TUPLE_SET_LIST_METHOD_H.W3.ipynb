{
 "cells": [
  {
   "cell_type": "code",
   "execution_count": 58,
   "id": "fce4dd51-0695-4ee3-a2ba-6663e12b6460",
   "metadata": {},
   "outputs": [
    {
     "data": {
      "text/plain": [
       "'Tuple Operations and Methods\\nIF-5-k\\nYash Ramesh Jadhav'"
      ]
     },
     "execution_count": 58,
     "metadata": {},
     "output_type": "execute_result"
    }
   ],
   "source": [
    "'''Tuple Operations and Methods\n",
    "IF-5-k\n",
    "Yash Ramesh Jadhav'''"
   ]
  },
  {
   "cell_type": "code",
   "execution_count": 59,
   "id": "e918e2f5-521d-4c69-9235-6f8513bb0ff5",
   "metadata": {},
   "outputs": [
    {
     "name": "stdout",
     "output_type": "stream",
     "text": [
      "()\n",
      "<class 'tuple'>\n"
     ]
    }
   ],
   "source": [
    "mt=()\n",
    "print(mt)\n",
    "print(type(mt))"
   ]
  },
  {
   "cell_type": "code",
   "execution_count": 60,
   "id": "52b70529-3e08-4d6d-bdac-9eac5db3dab7",
   "metadata": {},
   "outputs": [
    {
     "name": "stdout",
     "output_type": "stream",
     "text": [
      "(33, 44, 55)\n",
      "(11, 77, 33, 44)\n",
      "(55, 66, 77, 77, 99)\n"
     ]
    }
   ],
   "source": [
    "mt=(11,77,33,44,55,66,77,77,99)\n",
    "print(mt[2:5])\n",
    "print(mt[:4])\n",
    "print(mt[4:])"
   ]
  },
  {
   "cell_type": "code",
   "execution_count": 61,
   "id": "25324b24-1a77-44c3-a182-b6bffebbc0a5",
   "metadata": {},
   "outputs": [
    {
     "name": "stdout",
     "output_type": "stream",
     "text": [
      "ULTIMATEPYTHON\n"
     ]
    }
   ],
   "source": [
    "tup1=(\"ULTIMATE\")\n",
    "tup2=(\"PYTHON\")\n",
    "print(tup1+tup2)"
   ]
  },
  {
   "cell_type": "code",
   "execution_count": 62,
   "id": "0692a98b-e382-43e5-9bbd-55e60b393c3c",
   "metadata": {},
   "outputs": [
    {
     "name": "stdout",
     "output_type": "stream",
     "text": [
      "4\n"
     ]
    }
   ],
   "source": [
    "tup3=(\"YASH\")\n",
    "print(len(tup3))"
   ]
  },
  {
   "cell_type": "code",
   "execution_count": 63,
   "id": "e2b49858-a1a3-4d48-b1af-1271322edadf",
   "metadata": {},
   "outputs": [
    {
     "name": "stdout",
     "output_type": "stream",
     "text": [
      "Number of times 77 in mt=  3\n"
     ]
    }
   ],
   "source": [
    "print(\"Number of times 77 in mt= \",mt.count(77))"
   ]
  },
  {
   "cell_type": "code",
   "execution_count": 64,
   "id": "793d0ea8-3bf8-4e92-aac9-4a4cdb9812c6",
   "metadata": {},
   "outputs": [
    {
     "name": "stdout",
     "output_type": "stream",
     "text": [
      "Index of P=  1\n"
     ]
    }
   ],
   "source": [
    "tup4=('A','P','P','L','E')\n",
    "print(\"Index of P= \",tup4.index('P'))#prints index of first occuring P"
   ]
  },
  {
   "cell_type": "code",
   "execution_count": 65,
   "id": "57c99bc9-4b5c-4180-a675-2ef407347163",
   "metadata": {},
   "outputs": [
    {
     "name": "stdout",
     "output_type": "stream",
     "text": [
      "Minimun value: 1\n",
      "Maximum value: 25\n"
     ]
    }
   ],
   "source": [
    "tup5 = (25, 8, 1, 2)\n",
    "print(\"Minimun value:\" ,min(tup5)) \n",
    "print(\"Maximum value:\",max(tup5)) "
   ]
  },
  {
   "cell_type": "code",
   "execution_count": 66,
   "id": "65dfa4e5-37c2-4882-9864-c629c67494b4",
   "metadata": {},
   "outputs": [
    {
     "name": "stdout",
     "output_type": "stream",
     "text": [
      "18\n"
     ]
    }
   ],
   "source": [
    "tup6 = (4, 6, 8)\n",
    "print(sum(tup6))"
   ]
  },
  {
   "cell_type": "code",
   "execution_count": 67,
   "id": "c58dfc32-e103-42b0-8556-b6d75e2f46ed",
   "metadata": {},
   "outputs": [
    {
     "name": "stdout",
     "output_type": "stream",
     "text": [
      "True\n"
     ]
    }
   ],
   "source": [
    "names=('YASH','EVAA','SHAURYA','SHIV')\n",
    "print('EVAA'in names)"
   ]
  },
  {
   "cell_type": "code",
   "execution_count": 68,
   "id": "a0583d8b-f542-47cd-82ef-bec578082bd4",
   "metadata": {},
   "outputs": [
    {
     "name": "stdout",
     "output_type": "stream",
     "text": [
      "*--------------------SET METHODS and OPERATIONS------------------------*\n"
     ]
    }
   ],
   "source": [
    "print(\"*--------------------SET METHODS and OPERATIONS------------------------*\")"
   ]
  },
  {
   "cell_type": "code",
   "execution_count": 69,
   "id": "e4342f0c-8d24-4176-a3ca-4efe390b8233",
   "metadata": {},
   "outputs": [
    {
     "name": "stdout",
     "output_type": "stream",
     "text": [
      "{123, 'hello'}\n"
     ]
    }
   ],
   "source": [
    "my_set={'hello',123}\n",
    "print(my_set)"
   ]
  },
  {
   "cell_type": "code",
   "execution_count": 70,
   "id": "6bc2d2e4-0981-4fa1-85b4-e468a57499c3",
   "metadata": {},
   "outputs": [],
   "source": [
    "ms=set() #this creates empty set if we just use {} the it will create empty Dictionary"
   ]
  },
  {
   "cell_type": "code",
   "execution_count": 71,
   "id": "7e8e090d-ba1f-4050-b285-efa6497abf18",
   "metadata": {},
   "outputs": [
    {
     "name": "stdout",
     "output_type": "stream",
     "text": [
      "{10, 20, 30}\n"
     ]
    }
   ],
   "source": [
    "ms=set([10,20,30]) #we can create set from list\n",
    "print(ms)"
   ]
  },
  {
   "cell_type": "code",
   "execution_count": 72,
   "id": "127ac511-73dc-49a4-9ecb-f84da4e68f1c",
   "metadata": {},
   "outputs": [
    {
     "name": "stdout",
     "output_type": "stream",
     "text": [
      "{10, 20, 30}\n"
     ]
    }
   ],
   "source": [
    "print(ms)"
   ]
  },
  {
   "cell_type": "code",
   "execution_count": 73,
   "id": "6d1760d4-6ac8-4bd7-a28a-8abf8a0b7403",
   "metadata": {},
   "outputs": [
    {
     "name": "stdout",
     "output_type": "stream",
     "text": [
      "{10, 3, 20, 30}\n"
     ]
    }
   ],
   "source": [
    "ms.add(3)\n",
    "print(ms)"
   ]
  },
  {
   "cell_type": "code",
   "execution_count": 74,
   "id": "2f497af6-c829-4b9a-bf88-1aa360b738e9",
   "metadata": {},
   "outputs": [
    {
     "name": "stdout",
     "output_type": "stream",
     "text": [
      "{34, 3, 10, 77, 20, 56, 30}\n"
     ]
    }
   ],
   "source": [
    "ms.update([34,56,77])\n",
    "print(ms)"
   ]
  },
  {
   "cell_type": "code",
   "execution_count": 75,
   "id": "7b052807-95a0-454b-9fe0-cd1337cb0f96",
   "metadata": {},
   "outputs": [
    {
     "name": "stdout",
     "output_type": "stream",
     "text": [
      "{34, 10, 77, 20, 56, 30}\n"
     ]
    }
   ],
   "source": [
    "ms.discard(3)\n",
    "print(ms)"
   ]
  },
  {
   "cell_type": "code",
   "execution_count": 76,
   "id": "8f12de2b-a9fc-4684-82d7-944b2e54822e",
   "metadata": {},
   "outputs": [
    {
     "name": "stdout",
     "output_type": "stream",
     "text": [
      "{34, 10, 20, 56, 30}\n"
     ]
    }
   ],
   "source": [
    "ms.remove(77)\n",
    "print(ms)"
   ]
  },
  {
   "cell_type": "code",
   "execution_count": 77,
   "id": "825fd3d9-4933-4d59-b937-5196369bc6f7",
   "metadata": {},
   "outputs": [
    {
     "name": "stdout",
     "output_type": "stream",
     "text": [
      "H\n"
     ]
    }
   ],
   "source": [
    "ms1={'H','E','L','L','O'}\n",
    "print(ms1.pop())"
   ]
  },
  {
   "cell_type": "code",
   "execution_count": 78,
   "id": "51dcc7cf-af1c-4926-9f2d-a934f5f53e63",
   "metadata": {},
   "outputs": [
    {
     "name": "stdout",
     "output_type": "stream",
     "text": [
      "Union:  {1, 2, 3, 4, 5, 6, 7, 8}\n",
      "Intersection:  {4, 5}\n",
      "Difference:  {1, 2, 3}\n",
      "Difference:  {8, 6, 7}\n",
      "Symmetric Difference:  {1, 2, 3, 6, 7, 8}\n"
     ]
    }
   ],
   "source": [
    "A={1,2,3,4,5}\n",
    "B={4,5,6,7,8}\n",
    "print(\"Union: \",A|B)\n",
    "print(\"Intersection: \",A&B)\n",
    "print(\"Difference: \",A-B)\n",
    "print(\"Difference: \",B-A)\n",
    "print(\"Symmetric Difference: \",A^B)"
   ]
  },
  {
   "cell_type": "code",
   "execution_count": 79,
   "id": "d3368058-06c3-42f4-84dc-ae7c016701df",
   "metadata": {},
   "outputs": [
    {
     "name": "stdout",
     "output_type": "stream",
     "text": [
      "True\n",
      "True\n"
     ]
    }
   ],
   "source": [
    "ms2=set(\"apple\")\n",
    "print('a' in ms2)\n",
    "print('y' not in ms2)"
   ]
  },
  {
   "cell_type": "code",
   "execution_count": 80,
   "id": "9aa8de54-2514-489c-b2b8-ef0469ba56b2",
   "metadata": {},
   "outputs": [
    {
     "name": "stdout",
     "output_type": "stream",
     "text": [
      "l\n",
      "p\n",
      "e\n",
      "a\n"
     ]
    }
   ],
   "source": [
    "for i in set(\"apple\"):\n",
    "    print(i)"
   ]
  },
  {
   "cell_type": "code",
   "execution_count": 1,
   "id": "d3676de0-4892-4ca9-9d4c-71a438838bba",
   "metadata": {},
   "outputs": [
    {
     "name": "stdout",
     "output_type": "stream",
     "text": [
      "*--------------------LIST METHODS and OPERATIONS------------------------*\n"
     ]
    }
   ],
   "source": [
    "print(\"*--------------------LIST METHODS and OPERATIONS------------------------*\")"
   ]
  },
  {
   "cell_type": "code",
   "execution_count": 3,
   "id": "a02ac57d-0838-4e6e-ba72-14a65cb04f68",
   "metadata": {},
   "outputs": [
    {
     "name": "stdout",
     "output_type": "stream",
     "text": [
      "Empty list-  []\n"
     ]
    }
   ],
   "source": [
    "ml=[]\n",
    "print(\"Empty list- \",my_list)"
   ]
  },
  {
   "cell_type": "code",
   "execution_count": 4,
   "id": "f1f31622-692e-4dd6-805e-69cad1af3ee0",
   "metadata": {},
   "outputs": [
    {
     "name": "stdout",
     "output_type": "stream",
     "text": [
      "Negative Indexing-  50\n"
     ]
    }
   ],
   "source": [
    "ml=[10,20,30,40,50]\n",
    "print(\"Negative Indexing- \",ml[-1])"
   ]
  },
  {
   "cell_type": "code",
   "execution_count": 7,
   "id": "026e38a6-237a-4a53-aa45-587f51b23d32",
   "metadata": {},
   "outputs": [
    {
     "name": "stdout",
     "output_type": "stream",
     "text": [
      "Slicling:- \n",
      "  ['Y', 'T'] ['P', 'Y', 'T'] ['H', 'O', 'N', 'P', 'R', 'O', 'G'] ['P', 'Y', 'T', 'H', 'O']\n"
     ]
    }
   ],
   "source": [
    "n_list=['P','Y','T','H','O','N','P','R','O','G']\n",
    "print(\"Slicling:- \\n \",n_list[1:3],n_list[:3],n_list[3:],n_list[:-5])"
   ]
  },
  {
   "cell_type": "code",
   "execution_count": 10,
   "id": "92dc3d0e-37f5-464b-ae69-1c422e4f18a7",
   "metadata": {},
   "outputs": [
    {
     "name": "stdout",
     "output_type": "stream",
     "text": [
      "Yash\n",
      "22110220457\n",
      "227\n",
      "88.24\n",
      "25\n",
      "IF\n"
     ]
    }
   ],
   "source": [
    "data=[\"Yash\",22110220457,227,88.24,25,\"IF\"]\n",
    "for i in data:\n",
    "    print(i)"
   ]
  },
  {
   "cell_type": "code",
   "execution_count": 11,
   "id": "dc488b63-a113-4d75-b698-70f324769002",
   "metadata": {},
   "outputs": [
    {
     "name": "stdout",
     "output_type": "stream",
     "text": [
      "['OOP', 'DSU', 1995, 2000, 18899]\n"
     ]
    }
   ],
   "source": [
    "list=['OOP','DSU',1995,2000]\n",
    "list.append(18899)\n",
    "print(list)"
   ]
  },
  {
   "cell_type": "code",
   "execution_count": 12,
   "id": "27b5ad2c-9d2c-4c81-bb5a-61d22decf3bb",
   "metadata": {},
   "outputs": [
    {
     "name": "stdout",
     "output_type": "stream",
     "text": [
      "['OOP', 'DSU', 'Java', 1995, 2000, 18899]\n"
     ]
    }
   ],
   "source": [
    "list.insert(2,'Java')\n",
    "print(list)"
   ]
  },
  {
   "cell_type": "code",
   "execution_count": 15,
   "id": "30156866-ef21-405c-9308-a518d32b6030",
   "metadata": {},
   "outputs": [
    {
     "name": "stdout",
     "output_type": "stream",
     "text": [
      "[1, 2, 3, 4, 5, 6, 7, 8, 9, 10]\n"
     ]
    }
   ],
   "source": [
    "l1=[1,2,3,4,5]\n",
    "l2=[6,7,8,9,10]\n",
    "l1.extend(l2)\n",
    "print(l1)"
   ]
  },
  {
   "cell_type": "code",
   "execution_count": 18,
   "id": "c8f31d47-bedf-437f-b962-f6c275dfc3c3",
   "metadata": {},
   "outputs": [
    {
     "name": "stdout",
     "output_type": "stream",
     "text": [
      "Sum of L1=  55\n"
     ]
    }
   ],
   "source": [
    "print(\"Sum of L1= \",sum(l1))"
   ]
  },
  {
   "cell_type": "code",
   "execution_count": 1,
   "id": "ce9cfe8b-2387-4151-8fc4-52e723448de9",
   "metadata": {},
   "outputs": [
    {
     "name": "stdout",
     "output_type": "stream",
     "text": [
      "Count of 1:  5\n"
     ]
    }
   ],
   "source": [
    "c_list=[1,2,3,1,2,1,2,3,1,2,1]\n",
    "print(\"Count of 1: \",c_list.count(1))"
   ]
  },
  {
   "cell_type": "code",
   "execution_count": 4,
   "id": "1e4ee469-6a94-46af-ada7-1a8847e9a221",
   "metadata": {},
   "outputs": [
    {
     "name": "stdout",
     "output_type": "stream",
     "text": [
      "Index of 2:  1\n",
      "Index of (Second Occurence)2:  4\n"
     ]
    }
   ],
   "source": [
    "print(\"Index of 2: \",c_list.index(2))\n",
    "print(\"Index of (Second Occurence)2: \",c_list.index(2,2))"
   ]
  },
  {
   "cell_type": "code",
   "execution_count": 5,
   "id": "473fbfd5-787a-4fd4-9107-626f5f004a34",
   "metadata": {},
   "outputs": [
    {
     "name": "stdout",
     "output_type": "stream",
     "text": [
      "Minimun element:  1.054\n"
     ]
    }
   ],
   "source": [
    "m_list=[2.3,4,4.45,3,5.33,1.054,2.5]\n",
    "print(\"Minimum element: \",min(m_list))"
   ]
  },
  {
   "cell_type": "code",
   "execution_count": 6,
   "id": "6662b31b-f714-4967-892f-6a96d550d144",
   "metadata": {},
   "outputs": [
    {
     "name": "stdout",
     "output_type": "stream",
     "text": [
      "Maximum element:  5.33\n"
     ]
    }
   ],
   "source": [
    "print(\"Maximum element: \",max(m_list))"
   ]
  },
  {
   "cell_type": "code",
   "execution_count": 10,
   "id": "b380604b-8717-43aa-a276-4f2ec50547ee",
   "metadata": {},
   "outputs": [
    {
     "name": "stdout",
     "output_type": "stream",
     "text": [
      "Sorted List-  ['a', 'e', 'i', 'o', 'u']\n",
      "Sorted List(descending order)-  ['u', 'o', 'i', 'e', 'a']\n"
     ]
    }
   ],
   "source": [
    "vowels=['e','a','u','o','i']\n",
    "vowels.sort()\n",
    "print(\"Sorted List- \",vowels)\n",
    "vowels.sort(reverse=True)\n",
    "print(\"Sorted List(descending order)- \",vowels)\n"
   ]
  },
  {
   "cell_type": "code",
   "execution_count": 12,
   "id": "449cd06f-e309-4997-9c53-bf7b7570baf8",
   "metadata": {},
   "outputs": [
    {
     "name": "stdout",
     "output_type": "stream",
     "text": [
      "1.054\n",
      "2.3\n"
     ]
    }
   ],
   "source": [
    "print(m_list.pop())\n",
    "print(m_list.pop(0))"
   ]
  },
  {
   "cell_type": "code",
   "execution_count": 14,
   "id": "44d5a6fa-6a97-44c8-9f85-f8507b9f1329",
   "metadata": {},
   "outputs": [
    {
     "name": "stdout",
     "output_type": "stream",
     "text": [
      "[3, 5.33]\n"
     ]
    }
   ],
   "source": [
    "del m_list[0]\n",
    "print(m_list)"
   ]
  },
  {
   "cell_type": "code",
   "execution_count": 16,
   "id": "849e48cb-a926-4cbd-b7c7-8d165475c284",
   "metadata": {},
   "outputs": [
    {
     "name": "stdout",
     "output_type": "stream",
     "text": [
      "[5.33]\n"
     ]
    }
   ],
   "source": [
    "m_list.remove(3)\n",
    "print(m_list)"
   ]
  }
 ],
 "metadata": {
  "kernelspec": {
   "display_name": "Python [conda env:base] *",
   "language": "python",
   "name": "conda-base-py"
  },
  "language_info": {
   "codemirror_mode": {
    "name": "ipython",
    "version": 3
   },
   "file_extension": ".py",
   "mimetype": "text/x-python",
   "name": "python",
   "nbconvert_exporter": "python",
   "pygments_lexer": "ipython3",
   "version": "3.13.5"
  }
 },
 "nbformat": 4,
 "nbformat_minor": 5
}
