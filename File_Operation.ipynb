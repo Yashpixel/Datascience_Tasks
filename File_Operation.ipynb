{
 "cells": [
  {
   "cell_type": "code",
   "execution_count": 23,
   "id": "a3cf1cd4-7b06-4e48-90f9-4522349e1609",
   "metadata": {},
   "outputs": [],
   "source": [
    "f=open(\"mydata.txt\",\"r\")     "
   ]
  },
  {
   "cell_type": "code",
   "execution_count": 24,
   "id": "d382bfda-41df-4dd0-87d7-c91bdf0b68c8",
   "metadata": {},
   "outputs": [
    {
     "name": "stdout",
     "output_type": "stream",
     "text": [
      "I told my computer I needed a break...\n",
      "Now it wont stop sending me KitKat ads.\n"
     ]
    }
   ],
   "source": [
    "f = open(\"mydata.txt\", \"r\")\n",
    "print(f.read())      \n",
    "f.close()"
   ]
  },
  {
   "cell_type": "code",
   "execution_count": 25,
   "id": "4db745ac-5ae3-4156-8571-8d501b239ac2",
   "metadata": {},
   "outputs": [
    {
     "name": "stdout",
     "output_type": "stream",
     "text": [
      "I tol\n"
     ]
    }
   ],
   "source": [
    "f = open(\"mydata.txt\", \"r\")\n",
    "print(f.read(5))  \n",
    "f.close()"
   ]
  },
  {
   "cell_type": "code",
   "execution_count": 26,
   "id": "c2e34c6a-d736-42a2-8b46-4d2af082f1d0",
   "metadata": {},
   "outputs": [
    {
     "name": "stdout",
     "output_type": "stream",
     "text": [
      "I told my computer I needed a break...\n",
      "\n",
      "Now it wont stop sending me KitKat ads.\n"
     ]
    }
   ],
   "source": [
    "f = open(\"mydata.txt\", \"r\")\n",
    "print(f.readline()) \n",
    "print(f.readline()) \n",
    "f.close()"
   ]
  },
  {
   "cell_type": "code",
   "execution_count": 27,
   "id": "0d2ebbb5-6188-4c8a-b65e-594589e4f2dc",
   "metadata": {},
   "outputs": [
    {
     "name": "stdout",
     "output_type": "stream",
     "text": [
      "['I told my computer I needed a break...\\n', 'Now it wont stop sending me KitKat ads.']\n"
     ]
    }
   ],
   "source": [
    "f = open(\"mydata.txt\", \"r\")\n",
    "lines = f.readlines()\n",
    "print(lines)\n",
    "f.close()"
   ]
  },
  {
   "cell_type": "code",
   "execution_count": 28,
   "id": "a27219f1-9e0c-46fe-8028-831b88f250bc",
   "metadata": {},
   "outputs": [],
   "source": [
    "f = open(\"mydata.txt\", \"w\")\n",
    "f.write(\"Hi\\nI work as a Data Science Intern at Concept simplified\")\n",
    "f.close()"
   ]
  },
  {
   "cell_type": "code",
   "execution_count": 29,
   "id": "6d0bb25b-72f3-4ef3-9c65-1eb6d288a8aa",
   "metadata": {},
   "outputs": [],
   "source": [
    "f = open(\"mydata.txt\", \"a\")\n",
    "f.write(\"\\nAppended line\")\n",
    "f.close()"
   ]
  },
  {
   "cell_type": "code",
   "execution_count": 30,
   "id": "9e8bae15-d583-481b-a7ff-e28256da91bd",
   "metadata": {},
   "outputs": [],
   "source": [
    "f = open(\"mydata.txt\", \"w\")\n",
    "f.writelines([\"Concept Simplified\\n\", \"Ultimate Python\\n\",\"Data Science Intern \\n\"])\n",
    "f.close()"
   ]
  },
  {
   "cell_type": "code",
   "execution_count": 31,
   "id": "09f35d60-3ca8-4709-834a-4847470151b4",
   "metadata": {},
   "outputs": [
    {
     "name": "stdout",
     "output_type": "stream",
     "text": [
      "Concept Simplified\n",
      "Ultimate Python\n",
      "Data Science Intern \n",
      "\n"
     ]
    }
   ],
   "source": [
    "f = open(\"mydata.txt\", \"r\")\n",
    "print(f.read())      \n",
    "f.close()"
   ]
  }
 ],
 "metadata": {
  "kernelspec": {
   "display_name": "Python [conda env:yashenv]",
   "language": "python",
   "name": "conda-env-yashenv-py"
  },
  "language_info": {
   "codemirror_mode": {
    "name": "ipython",
    "version": 3
   },
   "file_extension": ".py",
   "mimetype": "text/x-python",
   "name": "python",
   "nbconvert_exporter": "python",
   "pygments_lexer": "ipython3",
   "version": "3.6.13"
  }
 },
 "nbformat": 4,
 "nbformat_minor": 5
}
